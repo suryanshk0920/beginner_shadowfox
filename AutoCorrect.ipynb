{
 "cells": [
  {
   "cell_type": "code",
   "execution_count": 1,
   "id": "9cb26d56-5b24-4176-893e-5059e5707b87",
   "metadata": {},
   "outputs": [],
   "source": [
    "def create_bigram(word):\n",
    "  return [word[i] + word[i+1] for i in range(len(word)-1)]\n",
    "\n",
    "def get_similarity_ratio(word1, word2):\n",
    "  word1, word2 = word1.lower(), word2.lower()\n",
    "\n",
    "  common= []\n",
    "\n",
    "  bigram1, bigram2 = create_bigram(word1), create_bigram(word2)\n",
    "\n",
    "  for i in range(len(bigram1)):\n",
    "    try:\n",
    "      cmn_elt = bigram2.index(bigram1[i])\n",
    "      common.append(bigram1[i])\n",
    "    except:\n",
    "      continue\n",
    "  return len(common)/max(len(bigram1), len(bigram2))\n",
    "\n"
   ]
  },
  {
   "cell_type": "code",
   "execution_count": 2,
   "id": "a8a4a669-c732-4ea1-9ba9-72ae42114156",
   "metadata": {},
   "outputs": [
    {
     "name": "stdout",
     "output_type": "stream",
     "text": [
      "['fa', 'al', 'li', 'ic', 'co', 'on']\n"
     ]
    }
   ],
   "source": [
    "if __name__ == \"__main__\":\n",
    "   print(create_bigram('falicon'))\n"
   ]
  },
  {
   "cell_type": "code",
   "execution_count": null,
   "id": "753c9306-8005-4aa7-b03a-e3a2615cde37",
   "metadata": {},
   "outputs": [],
   "source": []
  },
  {
   "cell_type": "code",
   "execution_count": 4,
   "id": "c356922f-eec0-4cbd-8271-c18e11696a40",
   "metadata": {},
   "outputs": [
    {
     "name": "stdout",
     "output_type": "stream",
     "text": [
      "0.6666666666666666\n"
     ]
    }
   ],
   "source": [
    "\n",
    "if __name__ == \"__main__\":\n",
    "     print(get_similarity_ratio('falcon', 'falicon'))"
   ]
  },
  {
   "cell_type": "code",
   "execution_count": 6,
   "id": "d45e5e31-d6e1-48c4-99b4-3fce4f08d65d",
   "metadata": {},
   "outputs": [],
   "source": [
    "\n",
    "def AutoCorrect(word, database={'falcon', 'dragon',\"apple\",\n",
    "    \"ball\",\n",
    "    \"cat\",\n",
    "    \"dog\",\n",
    "    \"elephant\",\n",
    "    \"fish\",\n",
    "    \"grape\",\n",
    "    \"hat\",\n",
    "    \"ice\",\n",
    "    \"juice\",\n",
    "    \"kite\",\n",
    "    \"lion\",\n",
    "    \"moon\",\n",
    "    \"night\",\n",
    "    \"orange\",\n",
    "    \"pencil\",\n",
    "    \"queen\",\n",
    "    \"rabbit\",\n",
    "    \"sun\",\n",
    "    \"tree\",\n",
    "    \"umbrella\",\n",
    "    \"vase\",\n",
    "    \"water\",\n",
    "    \"xylophone\",\n",
    "    \"yellow\",\n",
    "    \"zebra\" }, sim_threshold=0.5):\n",
    "  max_sim = 0.0\n",
    "  most_sim_word = word\n",
    "  for data_word in database:\n",
    "    cur_sim = get_similarity_ratio(word,data_word)\n",
    "    if cur_sim > max_sim:\n",
    "      max_sim = cur_sim\n",
    "      most_sim_word  = data_word\n",
    "\n",
    "  return most_sim_word if max_sim > sim_threshold else word\n",
    "  \n"
   ]
  },
  {
   "cell_type": "code",
   "execution_count": 12,
   "id": "e4b8c9f7-a257-4f0c-a374-c0cdaccef06b",
   "metadata": {},
   "outputs": [
    {
     "name": "stdout",
     "output_type": "stream",
     "text": [
      "Input your word: \n"
     ]
    },
    {
     "name": "stdin",
     "output_type": "stream",
     "text": [
      " appile\n"
     ]
    },
    {
     "name": "stdout",
     "output_type": "stream",
     "text": [
      "apple\n"
     ]
    }
   ],
   "source": [
    "\n",
    "if __name__ == \"__main__\":\n",
    "    \n",
    "    print(\"Input your word: \")\n",
    "    print(AutoCorrect(input()))"
   ]
  }
 ],
 "metadata": {
  "kernelspec": {
   "display_name": "Python 3 (ipykernel)",
   "language": "python",
   "name": "python3"
  },
  "language_info": {
   "codemirror_mode": {
    "name": "ipython",
    "version": 3
   },
   "file_extension": ".py",
   "mimetype": "text/x-python",
   "name": "python",
   "nbconvert_exporter": "python",
   "pygments_lexer": "ipython3",
   "version": "3.11.5"
  }
 },
 "nbformat": 4,
 "nbformat_minor": 5
}
